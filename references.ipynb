{
 "cells": [
  {
   "cell_type": "markdown",
   "id": "9cee49c5",
   "metadata": {},
   "source": [
    "# Reference Graph for Formal Methods Seminar\n",
    "\n",
    "Make a graph of paper references that you can prune as you see fit."
   ]
  },
  {
   "cell_type": "code",
   "execution_count": 26,
   "id": "0a09a7a4",
   "metadata": {},
   "outputs": [],
   "source": [
    "from ipywidgets import widgets, Layout\n",
    "from semanticscholar import SemanticScholar\n",
    "from IPython.display import display"
   ]
  },
  {
   "cell_type": "code",
   "execution_count": 27,
   "id": "c6af68cb",
   "metadata": {},
   "outputs": [],
   "source": [
    "paper_title = 'Concurrency debugging with MaxSMT'\n",
    "paper_doi = '10.1609/aaai.v33i01.33011608'"
   ]
  },
  {
   "cell_type": "code",
   "execution_count": 28,
   "id": "743adac8",
   "metadata": {},
   "outputs": [],
   "source": [
    "# Check that I can get references \n",
    "\n",
    "sch = SemanticScholar()\n",
    "paper = sch.get_paper(paper_doi)"
   ]
  },
  {
   "cell_type": "code",
   "execution_count": 29,
   "id": "c44fdeac",
   "metadata": {},
   "outputs": [],
   "source": [
    "# Get the authors\n",
    "author_lookup = {}\n",
    "for a in paper.authors:\n",
    "    author_lookup[a['authorId']] = a['name']\n",
    "    \n",
    "# print(author_lookup)"
   ]
  },
  {
   "cell_type": "code",
   "execution_count": 30,
   "id": "423798eb",
   "metadata": {},
   "outputs": [],
   "source": [
    "# Get the referenced papers\n",
    "paper_lookup = {paper['paperId'] : paper_title}\n",
    "for r in paper.references:\n",
    "    paper_lookup[r['paperId']] = r['title']\n",
    "    \n",
    "# print(paper_lookup)"
   ]
  },
  {
   "cell_type": "code",
   "execution_count": 48,
   "id": "ed51b510",
   "metadata": {},
   "outputs": [
    {
     "data": {
      "application/vnd.jupyter.widget-view+json": {
       "model_id": "62235b5e0a824b0b8cc29bad00d7395d"
      }
     },
     "metadata": {},
     "output_type": "display_data"
    },
    {
     "data": {
      "application/vnd.jupyter.widget-view+json": {
       "model_id": "363e3e29175b4ce197fca7ba9e415f2f"
      }
     },
     "metadata": {},
     "output_type": "display_data"
    },
    {
     "data": {
      "application/vnd.jupyter.widget-view+json": {
       "model_id": "9aa2541b6b494504b6bd52d3de7ac704"
      }
     },
     "metadata": {},
     "output_type": "display_data"
    },
    {
     "data": {
      "application/vnd.jupyter.widget-view+json": {
       "model_id": "4fb9b6377180480ca7578df6a3b9a012"
      }
     },
     "metadata": {},
     "output_type": "display_data"
    },
    {
     "data": {
      "application/vnd.jupyter.widget-view+json": {
       "model_id": "6cf11782bf7d4ec18ee8f27abb32e9d4"
      }
     },
     "metadata": {},
     "output_type": "display_data"
    },
    {
     "data": {
      "application/vnd.jupyter.widget-view+json": {
       "model_id": "2a8d6c95b08d427397b8f96a964bfacb"
      }
     },
     "metadata": {},
     "output_type": "display_data"
    },
    {
     "data": {
      "application/vnd.jupyter.widget-view+json": {
       "model_id": "4962b06e774e4fb59c21d75bc714ebbf"
      }
     },
     "metadata": {},
     "output_type": "display_data"
    },
    {
     "data": {
      "application/vnd.jupyter.widget-view+json": {
       "model_id": "0cdc221b09024219988d2ac78f4eef52"
      }
     },
     "metadata": {},
     "output_type": "display_data"
    },
    {
     "data": {
      "application/vnd.jupyter.widget-view+json": {
       "model_id": "e612c89acd584b42b161576a4c8f1846"
      }
     },
     "metadata": {},
     "output_type": "display_data"
    },
    {
     "data": {
      "application/vnd.jupyter.widget-view+json": {
       "model_id": "c79c7b4e1c9c473f9b6417e7486396c4"
      }
     },
     "metadata": {},
     "output_type": "display_data"
    },
    {
     "data": {
      "application/vnd.jupyter.widget-view+json": {
       "model_id": "ba93b3f98850420ca75085100af4ce68"
      }
     },
     "metadata": {},
     "output_type": "display_data"
    },
    {
     "data": {
      "application/vnd.jupyter.widget-view+json": {
       "model_id": "f6038263b3e94a209e293b1fd7fb43e8"
      }
     },
     "metadata": {},
     "output_type": "display_data"
    },
    {
     "data": {
      "application/vnd.jupyter.widget-view+json": {
       "model_id": "0fd0022dfa22451f9182cd67512fe0b2"
      }
     },
     "metadata": {},
     "output_type": "display_data"
    },
    {
     "data": {
      "application/vnd.jupyter.widget-view+json": {
       "model_id": "f1018155f8a04e38a079bdd01ff40e4b"
      }
     },
     "metadata": {},
     "output_type": "display_data"
    },
    {
     "data": {
      "application/vnd.jupyter.widget-view+json": {
       "model_id": "a8fa9271c7b448a6a4fd07e37562a368"
      }
     },
     "metadata": {},
     "output_type": "display_data"
    },
    {
     "data": {
      "application/vnd.jupyter.widget-view+json": {
       "model_id": "a3076614ca73400ca36e811d8af1e95d"
      }
     },
     "metadata": {},
     "output_type": "display_data"
    },
    {
     "data": {
      "application/vnd.jupyter.widget-view+json": {
       "model_id": "2dfe8e19a4e14298b6cc44f4ed5462d1"
      }
     },
     "metadata": {},
     "output_type": "display_data"
    },
    {
     "data": {
      "application/vnd.jupyter.widget-view+json": {
       "model_id": "8de7ea8b106947089d23cdc607fec0a4"
      }
     },
     "metadata": {},
     "output_type": "display_data"
    },
    {
     "data": {
      "application/vnd.jupyter.widget-view+json": {
       "model_id": "a899d18520cf475aba2813224a720fbb"
      }
     },
     "metadata": {},
     "output_type": "display_data"
    },
    {
     "data": {
      "application/vnd.jupyter.widget-view+json": {
       "model_id": "42e3a33ffce44bc1bdc4b738ab06e8b7"
      }
     },
     "metadata": {},
     "output_type": "display_data"
    },
    {
     "data": {
      "application/vnd.jupyter.widget-view+json": {
       "model_id": "f0fda9156f0149959ee7152889c1c5b5"
      }
     },
     "metadata": {},
     "output_type": "display_data"
    },
    {
     "data": {
      "application/vnd.jupyter.widget-view+json": {
       "model_id": "cf32ef3b18074de29a2952b3774a5105"
      }
     },
     "metadata": {},
     "output_type": "display_data"
    },
    {
     "data": {
      "application/vnd.jupyter.widget-view+json": {
       "model_id": "5e5b1e6d2f8047648509063be8c16877"
      }
     },
     "metadata": {},
     "output_type": "display_data"
    }
   ],
   "source": [
    "# Select the papers that are interesting\n",
    "HTML('<style> .widget-hbox .widget-label { max-width:350ex; text-align:left} </style>')\n",
    "labels = []\n",
    "boxes = []\n",
    "# todo make a little object for this list so you can tie viz to paperId\n",
    "for r in paper.references:\n",
    "    checkbox = widgets.Checkbox(layout=Layout(width='30px'))\n",
    "    label = widgets.Label(r['title'],layout=Layout(width='1000px', margin='6px 0 0 -10px'))\n",
    "    pair = [checkbox,label]\n",
    "    labels.append(pair)\n",
    "    boxes.append(widgets.HBox(pair))\n",
    "\n",
    "for b in boxes:\n",
    "    display(b) # can't read title"
   ]
  },
  {
   "cell_type": "code",
   "execution_count": 52,
   "id": "46344850",
   "metadata": {},
   "outputs": [
    {
     "name": "stdout",
     "output_type": "stream",
     "text": [
      "MaxSAT, Hard and Soft Constraints\n",
      "ODR: output-deterministic replay for multicore debugging\n",
      "Grace: safe multithreaded programming for C/C++\n"
     ]
    }
   ],
   "source": [
    "# Get currently checked second level papers\n",
    "for l in labels:\n",
    "    if l[0].value:\n",
    "        print(l[1].value)"
   ]
  },
  {
   "cell_type": "code",
   "execution_count": null,
   "id": "a7b79e10",
   "metadata": {},
   "outputs": [],
   "source": []
  },
  {
   "cell_type": "code",
   "execution_count": null,
   "id": "07adc80b",
   "metadata": {},
   "outputs": [],
   "source": []
  }
 ],
 "metadata": {
  "kernelspec": {
   "display_name": "Python 3 (ipykernel)",
   "language": "python",
   "name": "python3"
  },
  "language_info": {
   "codemirror_mode": {
    "name": "ipython",
    "version": 3
   },
   "file_extension": ".py",
   "mimetype": "text/x-python",
   "name": "python",
   "nbconvert_exporter": "python",
   "pygments_lexer": "ipython3",
   "version": "3.10.6"
  }
 },
 "nbformat": 4,
 "nbformat_minor": 5
}
